{
 "cells": [
  {
   "cell_type": "code",
   "execution_count": null,
   "metadata": {},
   "outputs": [],
   "source": [
    "import configparser\n",
    "import Src.data.dmbioProtDataset as dmbiods"
   ]
  },
  {
   "cell_type": "code",
   "execution_count": null,
   "metadata": {},
   "outputs": [],
   "source": [
    "config_path = '/teamspace/studios/this_studio/DeepDive/Prot-DNA_experiments/test/testDatasetConfig.ini'\n",
    "config = configparser.ConfigParser()\n",
    "config.read(config_path)\n",
    "config_section = config['DEFAULT']"
   ]
  },
  {
   "cell_type": "code",
   "execution_count": null,
   "metadata": {},
   "outputs": [],
   "source": [
    "dsParams = dmbiods.dmbioProtDataSetParams(\n",
    "    indir = config_section['indir'],\n",
    "    in_file = config_section['in_file'],\n",
    "    label_dir = config_section['label_dir'],\n",
    "    label_fileExt = config_section['label_fileExt'],\n",
    "    node_feat_dir = config_section['node_feat_dir'],\n",
    "    node_feat_fileExt = config_section['node_feat_fileExt'],\n",
    "    edge_dir = config_section['edge_dir'],\n",
    "    edge_fileExt = config_section['edge_fileExt'],\n",
    "    node_cord_dir = config_section['node_cord_dir'],\n",
    "    node_cord_file_ext = config_section['node_cord_file_ext']\n",
    ")"
   ]
  },
  {
   "cell_type": "code",
   "execution_count": null,
   "metadata": {},
   "outputs": [],
   "source": [
    "datasset = dmbiods.dmbioProtDataSet(dsParams)"
   ]
  },
  {
   "cell_type": "code",
   "execution_count": null,
   "metadata": {},
   "outputs": [],
   "source": [
    "datasset.getgraphbyid(0)"
   ]
  },
  {
   "cell_type": "code",
   "execution_count": null,
   "metadata": {},
   "outputs": [],
   "source": []
  }
 ],
 "metadata": {
  "language_info": {
   "name": "python"
  }
 },
 "nbformat": 4,
 "nbformat_minor": 2
}
