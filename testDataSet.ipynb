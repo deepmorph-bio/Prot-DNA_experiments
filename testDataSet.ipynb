{
 "cells": [
  {
   "cell_type": "code",
   "execution_count": 17,
   "metadata": {},
   "outputs": [],
   "source": [
    "import configparser\n",
    "import Src.data.dmbioProtDataset as dmbiods\n",
    "import Src.model.egnn_clean as eg\n",
    "import torch\n",
    "import numpy as np"
   ]
  },
  {
   "cell_type": "code",
   "execution_count": 18,
   "metadata": {},
   "outputs": [],
   "source": [
    "config_path = '/teamspace/studios/this_studio/DeepDive/Prot-DNA_experiments/test/testDatasetConfig.ini'\n",
    "config = configparser.ConfigParser()\n",
    "config.read(config_path)\n",
    "config_section = config['DEFAULT']"
   ]
  },
  {
   "cell_type": "code",
   "execution_count": 19,
   "metadata": {},
   "outputs": [],
   "source": [
    "dsParams = dmbiods.dmbioProtDataSetParams(\n",
    "    indir = config_section['indir'],\n",
    "    in_file = config_section['in_file'],\n",
    "    label_dir = config_section['label_dir'],\n",
    "    label_fileExt = config_section['label_fileExt'],\n",
    "    node_feat_dir = config_section['node_feat_dir'],\n",
    "    node_feat_fileExt = config_section['node_feat_fileExt'],\n",
    "    edge_dir = config_section['edge_dir'],\n",
    "    edge_fileExt = config_section['edge_fileExt'],\n",
    "    node_cord_dir = config_section['node_cord_dir'],\n",
    "    node_cord_file_ext = config_section['node_cord_file_ext']\n",
    ")"
   ]
  },
  {
   "cell_type": "code",
   "execution_count": 20,
   "metadata": {},
   "outputs": [
    {
     "data": {
      "text/plain": [
       "Data(x=[63, 5461], edge_index=[2, 766], edge_attr=[766, 1], y=[63, 1], pos=[63, 3])"
      ]
     },
     "execution_count": 20,
     "metadata": {},
     "output_type": "execute_result"
    }
   ],
   "source": [
    "#Populate dataset\n",
    "datasset = dmbiods.dmbioProtDataSet(dsParams)\n",
    "data = datasset.getgraphbyid(0)\n",
    "data"
   ]
  },
  {
   "cell_type": "code",
   "execution_count": 53,
   "metadata": {},
   "outputs": [
    {
     "name": "stdout",
     "output_type": "stream",
     "text": [
      "loss:0.6366453170776367\n"
     ]
    }
   ],
   "source": [
    "#test with egnn model\n",
    "torch.manual_seed(1231)\n",
    "egnn = eg.EGNN(in_node_nf=data.x.shape[1], hidden_nf=1028, out_node_nf=1, in_edge_nf=1)\n",
    "criterion = torch.nn.BCELoss()\n",
    "h, x = egnn(data.x, data.pos, data.edge_index, data.edge_attr)\n",
    "pred = torch.nn.Sigmoid()(h)\n",
    "l1_loss = criterion(pred, data.y)\n",
    "print(f'loss:{l1_loss.item()}')"
   ]
  },
  {
   "cell_type": "code",
   "execution_count": 54,
   "metadata": {},
   "outputs": [
    {
     "data": {
      "text/plain": [
       "(tensor(4), tensor(43), tensor(14))"
      ]
     },
     "execution_count": 54,
     "metadata": {},
     "output_type": "execute_result"
    }
   ],
   "source": [
    "#evaluation\n",
    "pred = pred.squeeze()\n",
    "pred = torch.tensor([0 if each<0.5 else 1 for each in pred], dtype=torch.int32)\n",
    "y_int = data.y.to(torch.int64)\n",
    "y_int = y_int.squeeze()\n",
    "t_p = ((pred == 1) & (y_int == 1)).sum()\n",
    "t_n = ((pred == 0) & (y_int == 0)).sum()\n",
    "actual_p = (y_int == 1).sum()\n",
    "t_p, t_n, actual_p\n"
   ]
  },
  {
   "cell_type": "code",
   "execution_count": 55,
   "metadata": {},
   "outputs": [
    {
     "data": {
      "text/plain": [
       "(tensor([0, 1, 1, 1, 0, 1, 1, 0, 0, 1, 1, 0, 1, 1, 0, 1, 0, 0, 0, 0, 0, 0, 0, 0,\n",
       "         0, 0, 0, 0, 0, 0, 0, 0, 0, 0, 0, 0, 0, 0, 1, 1, 0, 1, 1, 0, 0, 0, 0, 0,\n",
       "         0, 0, 0, 0, 0, 0, 0, 0, 0, 0, 0, 0, 0, 0, 0]),\n",
       " tensor([1, 1, 1, 1, 1, 1, 0, 1, 0, 0, 0, 0, 0, 0, 0, 0, 0, 0, 0, 0, 0, 0, 0, 0,\n",
       "         0, 0, 0, 0, 0, 0, 0, 0, 0, 0, 0, 0, 0, 0, 0, 0, 0, 0, 0, 0, 0, 0, 0, 0,\n",
       "         0, 0, 0, 0, 0, 0, 0, 0, 0, 0, 0, 0, 1, 1, 1], dtype=torch.int32))"
      ]
     },
     "execution_count": 55,
     "metadata": {},
     "output_type": "execute_result"
    }
   ],
   "source": [
    "y_int, pred"
   ]
  },
  {
   "cell_type": "code",
   "execution_count": null,
   "metadata": {},
   "outputs": [],
   "source": []
  }
 ],
 "metadata": {
  "language_info": {
   "name": "python"
  }
 },
 "nbformat": 4,
 "nbformat_minor": 2
}
