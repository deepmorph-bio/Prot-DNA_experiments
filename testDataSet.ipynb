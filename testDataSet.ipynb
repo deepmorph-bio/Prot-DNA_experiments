{
 "cells": [
  {
   "cell_type": "code",
   "execution_count": 1,
   "metadata": {},
   "outputs": [],
   "source": [
    "import configparser\n",
    "import Src.data.dmbioProtDataset as dmbiods\n",
    "import Src.model.egnn_clean as eg\n",
    "import torch\n",
    "import numpy as np"
   ]
  },
  {
   "cell_type": "code",
   "execution_count": 2,
   "metadata": {},
   "outputs": [],
   "source": [
    "config_path = '/teamspace/studios/this_studio/DeepDive/Prot-DNA_experiments/test/testDatasetConfig.ini'\n",
    "config = configparser.ConfigParser()\n",
    "config.read(config_path)\n",
    "config_section = config['DEFAULT']"
   ]
  },
  {
   "cell_type": "code",
   "execution_count": 3,
   "metadata": {},
   "outputs": [],
   "source": [
    "dsParams = dmbiods.dmbioProtDataSetParams(\n",
    "    indir = config_section['indir'],\n",
    "    in_file = config_section['in_file'],\n",
    "    label_dir = config_section['label_dir'],\n",
    "    label_fileExt = config_section['label_fileExt'],\n",
    "    node_feat_dir = config_section['node_feat_dir'],\n",
    "    node_feat_fileExt = config_section['node_feat_fileExt'],\n",
    "    edge_dir = config_section['edge_dir'],\n",
    "    edge_fileExt = config_section['edge_fileExt'],\n",
    "    node_cord_dir = config_section['node_cord_dir'],\n",
    "    node_cord_file_ext = config_section['node_cord_file_ext']\n",
    ")"
   ]
  },
  {
   "cell_type": "code",
   "execution_count": 4,
   "metadata": {},
   "outputs": [],
   "source": [
    "datasset = dmbiods.dmbioProtDataSet(dsParams)"
   ]
  },
  {
   "cell_type": "code",
   "execution_count": 5,
   "metadata": {},
   "outputs": [
    {
     "data": {
      "text/plain": [
       "Data(x=[63, 5461], edge_index=[2, 766], edge_attr=[766, 1], y=[63, 1], pos=[63, 3])"
      ]
     },
     "execution_count": 5,
     "metadata": {},
     "output_type": "execute_result"
    }
   ],
   "source": [
    "data = datasset.getgraphbyid(0)\n",
    "data"
   ]
  },
  {
   "cell_type": "code",
   "execution_count": 6,
   "metadata": {},
   "outputs": [],
   "source": [
    "egnn = eg.EGNN(in_node_nf=data.x.shape[1], hidden_nf=1028, out_node_nf=1, in_edge_nf=1)"
   ]
  },
  {
   "cell_type": "code",
   "execution_count": 7,
   "metadata": {},
   "outputs": [],
   "source": [
    "# data.x = data.x.squeeze()\n",
    "# data.pos = data.pos.squeeze()\n",
    "# data.edge_index[0] = data.edge_index[0].squeeze()\n",
    "# data.edge_index[1] = data.edge_index[1].squeeze() \n",
    "# data.edge_attr = data.edge_attr.squeeze()\n",
    "# data.edge_attr = data.edge_attr.unsqueeze(dim=1)"
   ]
  },
  {
   "cell_type": "code",
   "execution_count": 8,
   "metadata": {},
   "outputs": [],
   "source": [
    "criterion = torch.nn.BCELoss()\n",
    "h, x = egnn(data.x, data.pos, data.edge_index, data.edge_attr)"
   ]
  },
  {
   "cell_type": "code",
   "execution_count": 11,
   "metadata": {},
   "outputs": [
    {
     "data": {
      "text/plain": [
       "torch.Size([63, 1])"
      ]
     },
     "execution_count": 11,
     "metadata": {},
     "output_type": "execute_result"
    }
   ],
   "source": [
    "pred = torch.nn.Sigmoid()(h)\n",
    "#pred = pred.detach().numpy()\n",
    "pred.shape"
   ]
  },
  {
   "cell_type": "code",
   "execution_count": 12,
   "metadata": {},
   "outputs": [
    {
     "data": {
      "text/plain": [
       "torch.Size([63, 1])"
      ]
     },
     "execution_count": 12,
     "metadata": {},
     "output_type": "execute_result"
    }
   ],
   "source": [
    "data.y.shape"
   ]
  },
  {
   "cell_type": "code",
   "execution_count": 13,
   "metadata": {},
   "outputs": [
    {
     "data": {
      "text/plain": [
       "tensor(0.6467, grad_fn=<BinaryCrossEntropyBackward0>)"
      ]
     },
     "execution_count": 13,
     "metadata": {},
     "output_type": "execute_result"
    }
   ],
   "source": [
    "l1_loss = criterion(pred, data.y)\n",
    "l1_loss"
   ]
  },
  {
   "cell_type": "code",
   "execution_count": 14,
   "metadata": {},
   "outputs": [
    {
     "data": {
      "text/plain": [
       "tensor([1, 0, 1, 0, 0, 1, 1, 1, 1, 1, 1, 1, 1, 1, 1, 1, 1, 1, 0, 0, 1, 0, 0, 0,\n",
       "        0, 0, 0, 0, 0, 0, 0, 0, 0, 1, 0, 1, 0, 1, 1, 1, 0, 0, 0, 0, 0, 0, 0, 0,\n",
       "        0, 0, 0, 0, 0, 0, 0, 0, 1, 1, 0, 0, 0, 0, 0], dtype=torch.int32)"
      ]
     },
     "execution_count": 14,
     "metadata": {},
     "output_type": "execute_result"
    }
   ],
   "source": [
    "pred = pred.squeeze()\n",
    "pred = torch.tensor([0 if each<0.5 else 1 for each in pred], dtype=torch.int32)\n",
    "pred"
   ]
  },
  {
   "cell_type": "code",
   "execution_count": 16,
   "metadata": {},
   "outputs": [
    {
     "data": {
      "text/plain": [
       "(tensor(10), tensor(36), tensor(14))"
      ]
     },
     "execution_count": 16,
     "metadata": {},
     "output_type": "execute_result"
    }
   ],
   "source": [
    "y_int = data.y.to(torch.int64)\n",
    "y_int = y_int.squeeze()\n",
    "t_p = ((pred == 1) & (y_int == 1)).sum()\n",
    "t_n = ((pred == 0) & (y_int == 0)).sum()\n",
    "actual_p = (y_int == 1).sum()\n",
    "t_p, t_n, actual_p"
   ]
  },
  {
   "cell_type": "code",
   "execution_count": null,
   "metadata": {},
   "outputs": [],
   "source": []
  }
 ],
 "metadata": {
  "language_info": {
   "name": "python"
  }
 },
 "nbformat": 4,
 "nbformat_minor": 2
}
